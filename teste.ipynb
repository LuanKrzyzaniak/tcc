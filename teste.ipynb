{
 "cells": [
  {
   "cell_type": "code",
   "execution_count": 1,
   "id": "305e6e90",
   "metadata": {},
   "outputs": [
    {
     "name": "stderr",
     "output_type": "stream",
     "text": [
      "c:\\Users\\luan_\\Documents\\tcc\\venv\\lib\\site-packages\\tqdm\\auto.py:21: TqdmWarning: IProgress not found. Please update jupyter and ipywidgets. See https://ipywidgets.readthedocs.io/en/stable/user_install.html\n",
      "  from .autonotebook import tqdm as notebook_tqdm\n"
     ]
    }
   ],
   "source": [
    "import torch\n",
    "from transformers import T5Tokenizer, T5ForConditionalGeneration\n",
    "from transformers import BitsAndBytesConfig\n",
    "from peft import LoraConfig, get_peft_model, prepare_model_for_kbit_training\n",
    "import sentencepiece"
   ]
  },
  {
   "cell_type": "code",
   "execution_count": null,
   "id": "021ddf21",
   "metadata": {},
   "outputs": [],
   "source": [
    "# Verificar o ambiente \n",
    "def testa_gpu():\n",
    "    print(torch.cuda.get_device_name(0)) \n",
    "    print(torch.cuda.is_available())\n",
    "\n",
    "def create_tokenizer():\n",
    "    bnb_config = BitsAndBytesConfig(\n",
    "        load_in_4bit=True,\n",
    "        bnb_4bit_use_double_quant=True,\n",
    "        bnb_4bit_quant_type=\"nf4\",\n",
    "        bnb_4bit_compute_dtype=torch.bfloat16\n",
    "    )\n",
    "    \n",
    "    model_name = \"google-t5/t5-base\"\n",
    "    tokenizer = T5Tokenizer.from_pretrained(model_name)\n",
    "    model = T5ForConditionalGeneration.from_pretrained(\n",
    "                model_name,\n",
    "                quantization_config=bnb_config,\n",
    "                device_map=\"auto\" \n",
    "            )\n",
    "    return model_name, tokenizer, model"
   ]
  },
  {
   "cell_type": "code",
   "execution_count": null,
   "id": "16c90171",
   "metadata": {},
   "outputs": [
    {
     "name": "stdout",
     "output_type": "stream",
     "text": [
      "Teste iniciado\n",
      "Teste completo\n"
     ]
    }
   ],
   "source": [
    "def teste():\n",
    "    print(\"Teste iniciado\")\n",
    "    \n",
    "    print(\"Teste completo\")\n",
    "    \n",
    "teste()"
   ]
  },
  {
   "cell_type": "code",
   "execution_count": 7,
   "id": "583be6ca",
   "metadata": {},
   "outputs": [
    {
     "name": "stdout",
     "output_type": "stream",
     "text": [
      "Main iniciado\n",
      "NVIDIA GeForce RTX 4060 Ti\n",
      "True\n",
      "Main encerrado\n"
     ]
    }
   ],
   "source": [
    "def main():\n",
    "    print(\"Main iniciado\")\n",
    "\n",
    "    testa_gpu()\n",
    "    model_name, tokenizer, model = create_tokenizer()\n",
    "    \n",
    "    print(\"Main encerrado\")\n",
    "main()"
   ]
  },
  {
   "cell_type": "code",
   "execution_count": null,
   "id": "6357b616",
   "metadata": {},
   "outputs": [],
   "source": []
  }
 ],
 "metadata": {
  "kernelspec": {
   "display_name": "venv",
   "language": "python",
   "name": "python3"
  },
  "language_info": {
   "codemirror_mode": {
    "name": "ipython",
    "version": 3
   },
   "file_extension": ".py",
   "mimetype": "text/x-python",
   "name": "python",
   "nbconvert_exporter": "python",
   "pygments_lexer": "ipython3",
   "version": "3.10.6"
  }
 },
 "nbformat": 4,
 "nbformat_minor": 5
}
